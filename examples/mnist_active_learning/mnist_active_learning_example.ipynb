{
 "cells": [
  {
   "cell_type": "markdown",
   "metadata": {},
   "source": [
    "# Active-learning example with MNIST data for digit recognition"
   ]
  },
  {
   "cell_type": "markdown",
   "metadata": {},
   "source": [
    "The goal of this notebook is to show how a simple active-learning campaign can be designed for digit recognition using CAMD."
   ]
  },
  {
   "cell_type": "code",
   "execution_count": 1,
   "metadata": {},
   "outputs": [],
   "source": [
    "import matplotlib.pyplot as plt\n",
    "import numpy as np\n",
    "import pandas as pd\n",
    "import os\n",
    "from sklearn.datasets import fetch_openml\n",
    "from camd.agent.base import RandomAgent, HypothesisAgent\n",
    "from camd.analysis import AnalyzerBase\n",
    "from camd.experiment import ATFSampler\n",
    "from camd.loop import Campaign\n",
    "from scipy.stats import entropy\n",
    "from sklearn.datasets import fetch_openml\n",
    "from sklearn.linear_model import LogisticRegression\n",
    "from sklearn.model_selection import cross_val_score, KFold\n",
    "path = os.getcwd()"
   ]
  },
  {
   "cell_type": "markdown",
   "metadata": {},
   "source": [
    "Let's fetch the MNIST dataset by LeCun et al. from OpenML"
   ]
  },
  {
   "cell_type": "code",
   "execution_count": 2,
   "metadata": {},
   "outputs": [],
   "source": [
    "X, y = fetch_openml('mnist_784', version=1, return_X_y=True)\n",
    "df = pd.DataFrame(X)"
   ]
  },
  {
   "cell_type": "markdown",
   "metadata": {},
   "source": [
    "Dataset has 70,000 labeled instances of hand written digits in 28x28 resolution. We'll use 10,000 for testing our active-learning model. Use 60000 for active-learning itself."
   ]
  },
  {
   "cell_type": "code",
   "execution_count": 3,
   "metadata": {},
   "outputs": [
    {
     "name": "stdout",
     "output_type": "stream",
     "text": [
      "(70000, 784)\n"
     ]
    }
   ],
   "source": [
    "print(df.shape)"
   ]
  },
  {
   "cell_type": "markdown",
   "metadata": {},
   "source": [
    "This is what a typical example looks like:"
   ]
  },
  {
   "cell_type": "code",
   "execution_count": 4,
   "metadata": {},
   "outputs": [
    {
     "data": {
      "text/plain": [
       "<matplotlib.image.AxesImage at 0x12e0ab5c0>"
      ]
     },
     "execution_count": 4,
     "metadata": {},
     "output_type": "execute_result"
    },
    {
     "data": {
      "image/png": "[encoded data removed]",
      "text/plain": [
       "<Figure size 432x288 with 1 Axes>"
      ]
     },
     "metadata": {
      "needs_background": "light"
     },
     "output_type": "display_data"
    }
   ],
   "source": [
    "plt.imshow(X[2].reshape(28,28))"
   ]
  },
  {
   "cell_type": "markdown",
   "metadata": {},
   "source": [
    "Let's prepare our data for camd.Campaign"
   ]
  },
  {
   "cell_type": "code",
   "execution_count": 5,
   "metadata": {},
   "outputs": [
    {
     "name": "stdout",
     "output_type": "stream",
     "text": [
      "(60000, 785)\n"
     ]
    }
   ],
   "source": [
    "df.index = [str(i) for i in list(df.index)] # indices need to be strings\n",
    "y = y.astype(int)  # we need target as int\n",
    "df['target'] = y   # and target needs to be part of df\n",
    "test_df = df.sample(10000, random_state=42) # setting aside 10,000 examples for testing\n",
    "df = df.drop(test_df.index, axis=0)\n",
    "print(df.shape)"
   ]
  },
  {
   "cell_type": "markdown",
   "metadata": {},
   "source": [
    "Now let's construct an Agent that tries to choose the next set of examples to be labeled by a human oracle (which corresponds to the Experiment class in camd). Note we have 10 digits (hence classes), this for each example we get 10 probability estimations for belonging to digit classes\n",
    "\n",
    "Our Agents strategy is to pick the examples where the class assignments are the most undecided, which we quantify by calculating the entropy of the predicted probabilities from 0 to 9. The larger the entropy, the closer the point is to the ``decision boundaries`` of the classifier.\n",
    "\n",
    "Given the seed data and candidate data, our Agent will simply return a list of N_query number of examples to send for labeling."
   ]
  },
  {
   "cell_type": "code",
   "execution_count": 6,
   "metadata": {},
   "outputs": [],
   "source": [
    "class DecisionBoundary(HypothesisAgent):\n",
    "    def __init__(self, candidate_data=None, seed_data=None, N_query=None, clf=None, clf_params=None):\n",
    "        self.candidate_data = candidate_data\n",
    "        self.seed_data = seed_data\n",
    "        self.N_query = N_query if N_query else 1\n",
    "        self.cv_score = np.nan\n",
    "        self.clf = clf(**clf_params)\n",
    "        super(DecisionBoundary).__init__()\n",
    "        \n",
    "    def get_hypotheses(self, candidate_data, seed_data=None):\n",
    "        self.candidate_data = candidate_data.drop(columns=['target'], axis=1)\n",
    "        self.seed_data = seed_data\n",
    "        X_train = seed_data.drop(columns=['target'], axis=1)\n",
    "        y_train = seed_data['target']\n",
    "        \n",
    "        # CV score from acquired data\n",
    "        cv_score = cross_val_score(self.clf, X_train, y_train,\n",
    "                                   cv=KFold(3, shuffle=True))\n",
    "        self.cv_score = np.mean(cv_score)\n",
    "        \n",
    "        # Fit the main model, make predictions and request new experiments based on entorpy\n",
    "        self.clf.fit(X_train, y_train)\n",
    "        probabs = self.clf.predict_proba(self.candidate_data)\n",
    "        self.probabs = probabs\n",
    "        neg_entropies = [-1*entropy(probabs[i]) for i in range(len(probabs))]\n",
    "        selected = np.argsort(neg_entropies)[:self.N_query]\n",
    "        selected = candidate_data.index.values[selected].tolist()\n",
    "        return selected"
   ]
  },
  {
   "cell_type": "markdown",
   "metadata": {},
   "source": [
    "We design an `Analyzer` to test the active-learning model against the independent test set and stores the scores. It trains a classifier with acquired data, and evaluates the performance on test data. Note some arguments in the analyzer below are not used and are there for the `Campaign` not to break when it tries to pass such arguments to `MnistAnalyze`."
   ]
  },
  {
   "cell_type": "code",
   "execution_count": 7,
   "metadata": {},
   "outputs": [],
   "source": [
    "class MnistAnalyze(AnalyzerBase):\n",
    "    def __init__(self, test_df, clf, clf_params, *args, **kwargs):\n",
    "        self.score = []\n",
    "        self.test_df = test_df\n",
    "        self.clf = clf\n",
    "        self.clf_params = clf_params\n",
    "        super(MnistAnalyze, self).__init__()\n",
    "    def analyze(self, df, submitted_experiment_request, consumed):\n",
    "        X = df.drop(columns=['target'], axis=1)\n",
    "        y = df['target']\n",
    "        clf = self.clf(**clf_params)\n",
    "        clf.fit(X, y)\n",
    "        self.score.append(clf.score(test_df.drop('target', axis=1), test_df['target']))\n",
    "        print('score', self.score)\n",
    "        return [], []\n",
    "    def present(self, a, b, c, *args, **kwargs):\n",
    "        pass"
   ]
  },
  {
   "cell_type": "markdown",
   "metadata": {},
   "source": [
    "We will now setup our active learning campaign simulation by specifying the hyperparameters of the loop, such as the maximum number of queries allowed in each iteration, number of examples to pick as the seed, `Agent`, `Analyzer` and `Experiment` classes (and their parameters) to be used. Here we are using the `ATFSampler` class as the experiment, which helps perform an after-the-fact simulation by simply looking up the results from the provided dataframe. "
   ]
  },
  {
   "cell_type": "code",
   "execution_count": 8,
   "metadata": {},
   "outputs": [],
   "source": [
    "N_query = 500  # This many new examples are asked to oracle in each iteration (labeled by humans in reality)\n",
    "N_seed = 5000  # This many samples are randomly acquired in the beginning to form a seed.\n",
    "clf = LogisticRegression\n",
    "clf_params = {'C': 50./X.shape[1], 'multi_class':'multinomial', 'penalty':'l1', 'solver':'saga', 'tol':0.1}\n",
    "agent = DecisionBoundary\n",
    "agent_params = {'N_query': N_query, 'clf':clf, 'clf_params': clf_params}\n",
    "analyzer = MnistAnalyze\n",
    "analyzer_params = {'test_df': test_df, 'clf':clf, 'clf_params': clf_params}\n",
    "experiment = ATFSampler\n",
    "experiment_params = {'dataframe': df}\n",
    "candidate_data = df"
   ]
  },
  {
   "cell_type": "markdown",
   "metadata": {},
   "source": [
    "Let's construct a `Campaign`, which will execute the entire campaign. You should make a folder named 'mnist-entropy' in the working directory of this notebook."
   ]
  },
  {
   "cell_type": "code",
   "execution_count": 9,
   "metadata": {},
   "outputs": [],
   "source": [
    "new_loop = Campaign(candidate_data, agent, experiment, analyzer,\n",
    "               agent_params=agent_params, analyzer_params=analyzer_params, \n",
    "               experiment_params=experiment_params,path=os.path.join(path, 'mnist-entropy'),create_seed=N_seed)"
   ]
  },
  {
   "cell_type": "markdown",
   "metadata": {},
   "source": [
    "Initialize the loop to create an initial seed with N_seed examples randomly picked from the candidate data. It actually runs the RandomAgent under the hood."
   ]
  },
  {
   "cell_type": "code",
   "execution_count": 10,
   "metadata": {},
   "outputs": [
    {
     "name": "stdout",
     "output_type": "stream",
     "text": [
      "Campaign initialization state: Agent RandomAgent hypothesizing\n",
      "Campaign 0 state: Running experiments\n"
     ]
    }
   ],
   "source": [
    "new_loop.initialize()"
   ]
  },
  {
   "cell_type": "markdown",
   "metadata": {},
   "source": [
    "Now our loop is initialized, and a set of new \"experiments\" are submitted. We will ask the Campaign to start runing with 10 iterations:"
   ]
  },
  {
   "cell_type": "code",
   "execution_count": 11,
   "metadata": {
    "scrolled": true
   },
   "outputs": [
    {
     "name": "stdout",
     "output_type": "stream",
     "text": [
      "Iteration: 0\n",
      "Campaign 0 state: Getting new results\n",
      "Campaign 0 state: Analyzing results\n",
      "score [0.8962]\n",
      "Campaign 0 state: Agent DecisionBoundary hypothesizing\n",
      "Campaign 0 state: Running experiments\n",
      "  Waiting for next round ...\n",
      "Iteration: 1\n",
      "Campaign 1 state: Getting new results\n",
      "Campaign 1 state: Analyzing results\n",
      "score [0.8962, 0.9003]\n",
      "Campaign 1 state: Agent DecisionBoundary hypothesizing\n",
      "Campaign 1 state: Running experiments\n",
      "  Waiting for next round ...\n",
      "Iteration: 2\n",
      "Campaign 2 state: Getting new results\n",
      "Campaign 2 state: Analyzing results\n",
      "score [0.8962, 0.9003, 0.9015]\n",
      "Campaign 2 state: Agent DecisionBoundary hypothesizing\n",
      "Campaign 2 state: Running experiments\n",
      "  Waiting for next round ...\n",
      "Iteration: 3\n",
      "Campaign 3 state: Getting new results\n",
      "Campaign 3 state: Analyzing results\n",
      "score [0.8962, 0.9003, 0.9015, 0.9018]\n",
      "Campaign 3 state: Agent DecisionBoundary hypothesizing\n",
      "Campaign 3 state: Running experiments\n",
      "  Waiting for next round ...\n",
      "Iteration: 4\n",
      "Campaign 4 state: Getting new results\n",
      "Campaign 4 state: Analyzing results\n",
      "score [0.8962, 0.9003, 0.9015, 0.9018, 0.9028]\n",
      "Campaign 4 state: Agent DecisionBoundary hypothesizing\n",
      "Campaign 4 state: Running experiments\n",
      "  Waiting for next round ...\n",
      "Iteration: 5\n",
      "Campaign 5 state: Getting new results\n",
      "Campaign 5 state: Analyzing results\n",
      "score [0.8962, 0.9003, 0.9015, 0.9018, 0.9028, 0.9001]\n",
      "Campaign 5 state: Agent DecisionBoundary hypothesizing\n",
      "Campaign 5 state: Running experiments\n",
      "  Waiting for next round ...\n",
      "Iteration: 6\n",
      "Campaign 6 state: Getting new results\n",
      "Campaign 6 state: Analyzing results\n",
      "score [0.8962, 0.9003, 0.9015, 0.9018, 0.9028, 0.9001, 0.9036]\n",
      "Campaign 6 state: Agent DecisionBoundary hypothesizing\n",
      "Campaign 6 state: Running experiments\n",
      "  Waiting for next round ...\n",
      "Iteration: 7\n",
      "Campaign 7 state: Getting new results\n",
      "Campaign 7 state: Analyzing results\n",
      "score [0.8962, 0.9003, 0.9015, 0.9018, 0.9028, 0.9001, 0.9036, 0.9028]\n",
      "Campaign 7 state: Agent DecisionBoundary hypothesizing\n",
      "Campaign 7 state: Running experiments\n",
      "  Waiting for next round ...\n",
      "Iteration: 8\n",
      "Campaign 8 state: Getting new results\n",
      "Campaign 8 state: Analyzing results\n",
      "score [0.8962, 0.9003, 0.9015, 0.9018, 0.9028, 0.9001, 0.9036, 0.9028, 0.9049]\n",
      "Campaign 8 state: Agent DecisionBoundary hypothesizing\n",
      "Campaign 8 state: Running experiments\n",
      "  Waiting for next round ...\n",
      "Iteration: 9\n",
      "Campaign 9 state: Getting new results\n",
      "Campaign 9 state: Analyzing results\n",
      "score [0.8962, 0.9003, 0.9015, 0.9018, 0.9028, 0.9001, 0.9036, 0.9028, 0.9049, 0.9068]\n",
      "Campaign 9 state: Agent DecisionBoundary hypothesizing\n",
      "Campaign 9 state: Running experiments\n",
      "  Waiting for next round ...\n",
      "Iteration: 10\n",
      "Campaign 10 state: Getting new results\n",
      "Campaign 10 state: Analyzing results\n",
      "score [0.8962, 0.9003, 0.9015, 0.9018, 0.9028, 0.9001, 0.9036, 0.9028, 0.9049, 0.9068, 0.9062]\n",
      "Campaign 10 state: Agent DecisionBoundary hypothesizing\n",
      "Campaign 10 state: Running experiments\n",
      "  Waiting for next round ...\n",
      "Iteration: 11\n",
      "Campaign 11 state: Getting new results\n",
      "Campaign 11 state: Analyzing results\n",
      "score [0.8962, 0.9003, 0.9015, 0.9018, 0.9028, 0.9001, 0.9036, 0.9028, 0.9049, 0.9068, 0.9062, 0.9087]\n",
      "Campaign 11 state: Agent DecisionBoundary hypothesizing\n",
      "Campaign 11 state: Running experiments\n",
      "  Waiting for next round ...\n",
      "Iteration: 12\n",
      "Campaign 12 state: Getting new results\n",
      "Campaign 12 state: Analyzing results\n",
      "score [0.8962, 0.9003, 0.9015, 0.9018, 0.9028, 0.9001, 0.9036, 0.9028, 0.9049, 0.9068, 0.9062, 0.9087, 0.9094]\n",
      "Campaign 12 state: Agent DecisionBoundary hypothesizing\n",
      "Campaign 12 state: Running experiments\n",
      "  Waiting for next round ...\n",
      "Iteration: 13\n",
      "Campaign 13 state: Getting new results\n",
      "Campaign 13 state: Analyzing results\n",
      "score [0.8962, 0.9003, 0.9015, 0.9018, 0.9028, 0.9001, 0.9036, 0.9028, 0.9049, 0.9068, 0.9062, 0.9087, 0.9094, 0.9096]\n",
      "Campaign 13 state: Agent DecisionBoundary hypothesizing\n",
      "Campaign 13 state: Running experiments\n",
      "  Waiting for next round ...\n",
      "Iteration: 14\n",
      "Campaign 14 state: Getting new results\n",
      "Campaign 14 state: Analyzing results\n",
      "score [0.8962, 0.9003, 0.9015, 0.9018, 0.9028, 0.9001, 0.9036, 0.9028, 0.9049, 0.9068, 0.9062, 0.9087, 0.9094, 0.9096, 0.9103]\n",
      "Campaign 14 state: Agent DecisionBoundary hypothesizing\n",
      "Campaign 14 state: Running experiments\n",
      "  Waiting for next round ...\n",
      "Iteration: 15\n",
      "Campaign 15 state: Getting new results\n",
      "Campaign 15 state: Analyzing results\n",
      "score [0.8962, 0.9003, 0.9015, 0.9018, 0.9028, 0.9001, 0.9036, 0.9028, 0.9049, 0.9068, 0.9062, 0.9087, 0.9094, 0.9096, 0.9103, 0.9117]\n",
      "Campaign 15 state: Agent DecisionBoundary hypothesizing\n",
      "Campaign 15 state: Running experiments\n",
      "  Waiting for next round ...\n",
      "Iteration: 16\n",
      "Campaign 16 state: Getting new results\n",
      "Campaign 16 state: Analyzing results\n",
      "score [0.8962, 0.9003, 0.9015, 0.9018, 0.9028, 0.9001, 0.9036, 0.9028, 0.9049, 0.9068, 0.9062, 0.9087, 0.9094, 0.9096, 0.9103, 0.9117, 0.9139]\n",
      "Campaign 16 state: Agent DecisionBoundary hypothesizing\n",
      "Campaign 16 state: Running experiments\n",
      "  Waiting for next round ...\n",
      "Iteration: 17\n",
      "Campaign 17 state: Getting new results\n",
      "Campaign 17 state: Analyzing results\n",
      "score [0.8962, 0.9003, 0.9015, 0.9018, 0.9028, 0.9001, 0.9036, 0.9028, 0.9049, 0.9068, 0.9062, 0.9087, 0.9094, 0.9096, 0.9103, 0.9117, 0.9139, 0.9151]\n",
      "Campaign 17 state: Agent DecisionBoundary hypothesizing\n",
      "Campaign 17 state: Running experiments\n",
      "  Waiting for next round ...\n",
      "Iteration: 18\n",
      "Campaign 18 state: Getting new results\n",
      "Campaign 18 state: Analyzing results\n",
      "score [0.8962, 0.9003, 0.9015, 0.9018, 0.9028, 0.9001, 0.9036, 0.9028, 0.9049, 0.9068, 0.9062, 0.9087, 0.9094, 0.9096, 0.9103, 0.9117, 0.9139, 0.9151, 0.9156]\n",
      "Campaign 18 state: Agent DecisionBoundary hypothesizing\n",
      "Campaign 18 state: Running experiments\n",
      "  Waiting for next round ...\n",
      "Iteration: 19\n",
      "Campaign 19 state: Getting new results\n",
      "Campaign 19 state: Analyzing results\n",
      "score [0.8962, 0.9003, 0.9015, 0.9018, 0.9028, 0.9001, 0.9036, 0.9028, 0.9049, 0.9068, 0.9062, 0.9087, 0.9094, 0.9096, 0.9103, 0.9117, 0.9139, 0.9151, 0.9156, 0.9181]\n",
      "Campaign 19 state: Agent DecisionBoundary hypothesizing\n",
      "Campaign 19 state: Running experiments\n",
      "  Waiting for next round ...\n",
      "Iteration: 20\n",
      "Campaign 20 state: Getting new results\n",
      "Campaign 20 state: Analyzing results\n",
      "score [0.8962, 0.9003, 0.9015, 0.9018, 0.9028, 0.9001, 0.9036, 0.9028, 0.9049, 0.9068, 0.9062, 0.9087, 0.9094, 0.9096, 0.9103, 0.9117, 0.9139, 0.9151, 0.9156, 0.9181, 0.918]\n",
      "Campaign 20 state: Agent DecisionBoundary hypothesizing\n",
      "Campaign 20 state: Running experiments\n",
      "  Waiting for next round ...\n",
      "Iteration: 21\n",
      "Campaign 21 state: Getting new results\n",
      "Campaign 21 state: Analyzing results\n",
      "score [0.8962, 0.9003, 0.9015, 0.9018, 0.9028, 0.9001, 0.9036, 0.9028, 0.9049, 0.9068, 0.9062, 0.9087, 0.9094, 0.9096, 0.9103, 0.9117, 0.9139, 0.9151, 0.9156, 0.9181, 0.918, 0.9195]\n",
      "Campaign 21 state: Agent DecisionBoundary hypothesizing\n",
      "Campaign 21 state: Running experiments\n",
      "  Waiting for next round ...\n",
      "Iteration: 22\n",
      "Campaign 22 state: Getting new results\n",
      "Campaign 22 state: Analyzing results\n",
      "score [0.8962, 0.9003, 0.9015, 0.9018, 0.9028, 0.9001, 0.9036, 0.9028, 0.9049, 0.9068, 0.9062, 0.9087, 0.9094, 0.9096, 0.9103, 0.9117, 0.9139, 0.9151, 0.9156, 0.9181, 0.918, 0.9195, 0.9203]\n",
      "Campaign 22 state: Agent DecisionBoundary hypothesizing\n",
      "Campaign 22 state: Running experiments\n",
      "  Waiting for next round ...\n",
      "Iteration: 23\n",
      "Campaign 23 state: Getting new results\n",
      "Campaign 23 state: Analyzing results\n",
      "score [0.8962, 0.9003, 0.9015, 0.9018, 0.9028, 0.9001, 0.9036, 0.9028, 0.9049, 0.9068, 0.9062, 0.9087, 0.9094, 0.9096, 0.9103, 0.9117, 0.9139, 0.9151, 0.9156, 0.9181, 0.918, 0.9195, 0.9203, 0.9208]\n",
      "Campaign 23 state: Agent DecisionBoundary hypothesizing\n",
      "Campaign 23 state: Running experiments\n",
      "  Waiting for next round ...\n",
      "Iteration: 24\n",
      "Campaign 24 state: Getting new results\n",
      "Campaign 24 state: Analyzing results\n",
      "score [0.8962, 0.9003, 0.9015, 0.9018, 0.9028, 0.9001, 0.9036, 0.9028, 0.9049, 0.9068, 0.9062, 0.9087, 0.9094, 0.9096, 0.9103, 0.9117, 0.9139, 0.9151, 0.9156, 0.9181, 0.918, 0.9195, 0.9203, 0.9208, 0.9196]\n",
      "Campaign 24 state: Agent DecisionBoundary hypothesizing\n",
      "Campaign 24 state: Running experiments\n",
      "  Waiting for next round ...\n",
      "Iteration: 25\n",
      "Campaign 25 state: Getting new results\n",
      "Campaign 25 state: Analyzing results\n",
      "score [0.8962, 0.9003, 0.9015, 0.9018, 0.9028, 0.9001, 0.9036, 0.9028, 0.9049, 0.9068, 0.9062, 0.9087, 0.9094, 0.9096, 0.9103, 0.9117, 0.9139, 0.9151, 0.9156, 0.9181, 0.918, 0.9195, 0.9203, 0.9208, 0.9196, 0.92]\n",
      "Campaign 25 state: Agent DecisionBoundary hypothesizing\n",
      "Campaign 25 state: Running experiments\n",
      "  Waiting for next round ...\n",
      "Iteration: 26\n",
      "Campaign 26 state: Getting new results\n",
      "Campaign 26 state: Analyzing results\n",
      "score [0.8962, 0.9003, 0.9015, 0.9018, 0.9028, 0.9001, 0.9036, 0.9028, 0.9049, 0.9068, 0.9062, 0.9087, 0.9094, 0.9096, 0.9103, 0.9117, 0.9139, 0.9151, 0.9156, 0.9181, 0.918, 0.9195, 0.9203, 0.9208, 0.9196, 0.92, 0.9207]\n",
      "Campaign 26 state: Agent DecisionBoundary hypothesizing\n"
     ]
    },
    {
     "name": "stdout",
     "output_type": "stream",
     "text": [
      "Campaign 26 state: Running experiments\n",
      "  Waiting for next round ...\n",
      "Iteration: 27\n",
      "Campaign 27 state: Getting new results\n",
      "Campaign 27 state: Analyzing results\n",
      "score [0.8962, 0.9003, 0.9015, 0.9018, 0.9028, 0.9001, 0.9036, 0.9028, 0.9049, 0.9068, 0.9062, 0.9087, 0.9094, 0.9096, 0.9103, 0.9117, 0.9139, 0.9151, 0.9156, 0.9181, 0.918, 0.9195, 0.9203, 0.9208, 0.9196, 0.92, 0.9207, 0.9198]\n",
      "Campaign 27 state: Agent DecisionBoundary hypothesizing\n",
      "Campaign 27 state: Running experiments\n",
      "  Waiting for next round ...\n",
      "Iteration: 28\n",
      "Campaign 28 state: Getting new results\n",
      "Campaign 28 state: Analyzing results\n",
      "score [0.8962, 0.9003, 0.9015, 0.9018, 0.9028, 0.9001, 0.9036, 0.9028, 0.9049, 0.9068, 0.9062, 0.9087, 0.9094, 0.9096, 0.9103, 0.9117, 0.9139, 0.9151, 0.9156, 0.9181, 0.918, 0.9195, 0.9203, 0.9208, 0.9196, 0.92, 0.9207, 0.9198, 0.9198]\n",
      "Campaign 28 state: Agent DecisionBoundary hypothesizing\n",
      "Campaign 28 state: Running experiments\n",
      "  Waiting for next round ...\n",
      "Iteration: 29\n",
      "Campaign 29 state: Getting new results\n",
      "Campaign 29 state: Analyzing results\n",
      "score [0.8962, 0.9003, 0.9015, 0.9018, 0.9028, 0.9001, 0.9036, 0.9028, 0.9049, 0.9068, 0.9062, 0.9087, 0.9094, 0.9096, 0.9103, 0.9117, 0.9139, 0.9151, 0.9156, 0.9181, 0.918, 0.9195, 0.9203, 0.9208, 0.9196, 0.92, 0.9207, 0.9198, 0.9198, 0.9202]\n",
      "Campaign 29 state: Agent DecisionBoundary hypothesizing\n",
      "Campaign 29 state: Running experiments\n",
      "  Waiting for next round ...\n",
      "Iteration: 30\n",
      "Campaign 30 state: Getting new results\n",
      "Campaign 30 state: Analyzing results\n",
      "score [0.8962, 0.9003, 0.9015, 0.9018, 0.9028, 0.9001, 0.9036, 0.9028, 0.9049, 0.9068, 0.9062, 0.9087, 0.9094, 0.9096, 0.9103, 0.9117, 0.9139, 0.9151, 0.9156, 0.9181, 0.918, 0.9195, 0.9203, 0.9208, 0.9196, 0.92, 0.9207, 0.9198, 0.9198, 0.9202, 0.92]\n",
      "Campaign 30 state: Agent DecisionBoundary hypothesizing\n",
      "Campaign 30 state: Running experiments\n",
      "  Waiting for next round ...\n",
      "Campaign 31 state: Getting new results\n",
      "Campaign 31 state: Analyzing results\n",
      "score [0.8962, 0.9003, 0.9015, 0.9018, 0.9028, 0.9001, 0.9036, 0.9028, 0.9049, 0.9068, 0.9062, 0.9087, 0.9094, 0.9096, 0.9103, 0.9117, 0.9139, 0.9151, 0.9156, 0.9181, 0.918, 0.9195, 0.9203, 0.9208, 0.9196, 0.92, 0.9207, 0.9198, 0.9198, 0.9202, 0.92, 0.9203]\n",
      "Finalizing campaign.\n"
     ]
    }
   ],
   "source": [
    "new_loop.auto_loop(n_iterations=30, timeout=0)"
   ]
  },
  {
   "cell_type": "code",
   "execution_count": 12,
   "metadata": {},
   "outputs": [
    {
     "data": {
      "text/plain": [
       "Text(0.5, 0, 'iteration')"
      ]
     },
     "execution_count": 12,
     "metadata": {},
     "output_type": "execute_result"
    },
    {
     "data": {
      "image/png": "[encoded data removed]",
      "text/plain": [
       "<Figure size 432x288 with 1 Axes>"
      ]
     },
     "metadata": {
      "needs_background": "light"
     },
     "output_type": "display_data"
    }
   ],
   "source": [
    "plt.plot(new_loop.analyzer.score)\n",
    "plt.xlabel('iteration')"
   ]
  },
  {
   "cell_type": "markdown",
   "metadata": {},
   "source": [
    "### Next: Simulations, confidence intervals and baselines"
   ]
  },
  {
   "cell_type": "markdown",
   "metadata": {},
   "source": [
    "How confident are we with this simulation? In the next step, we will run multiple versions of this simulation with different seeds to build a confidence bound around our learning curve. In addition, we will simulate a strong baseline to compare: i.e. random acquisition. Random acquisition is not easy when the goal is to improve prediction accuracy at minimal acquisition cost. \n",
    "\n",
    "We parallelize this a little bit."
   ]
  },
  {
   "cell_type": "code",
   "execution_count": 13,
   "metadata": {},
   "outputs": [],
   "source": [
    "from joblib import Parallel, delayed"
   ]
  },
  {
   "cell_type": "code",
   "execution_count": 14,
   "metadata": {},
   "outputs": [],
   "source": [
    "def entropy_campaign(i):\n",
    "    loop_dir = os.path.join(path,'mnist-entropy-{}'.format(i))\n",
    "    os.mkdir(loop_dir)\n",
    "    loop = Campaign(candidate_data, agent, experiment, analyzer,\n",
    "                agent_params=agent_params, analyzer_params=analyzer_params, \n",
    "                experiment_params=experiment_params,path=loop_dir,create_seed=N_seed)\n",
    "    loop.initialize(random_state=np.random.randint(0,100000))\n",
    "    loop.auto_loop(n_iterations=30, timeout=0)\n",
    "    return loop"
   ]
  },
  {
   "cell_type": "code",
   "execution_count": 15,
   "metadata": {},
   "outputs": [],
   "source": [
    "entropy_results = Parallel(n_jobs=-1)(delayed(entropy_campaign)(i) for i in range(8))"
   ]
  },
  {
   "cell_type": "markdown",
   "metadata": {},
   "source": [
    "Let's also run similar simulations with a randomly aquiring agent: `RandomAgent`"
   ]
  },
  {
   "cell_type": "code",
   "execution_count": 16,
   "metadata": {},
   "outputs": [],
   "source": [
    "agent_random = RandomAgent\n",
    "agent_random_params = {'N_query': N_query}"
   ]
  },
  {
   "cell_type": "code",
   "execution_count": 17,
   "metadata": {},
   "outputs": [],
   "source": [
    "def random_campaign(i):\n",
    "    loop_dir = os.path.join(path,'mnist-random-{}'.format(i))\n",
    "    os.mkdir(loop_dir)\n",
    "    loop = Campaign(candidate_data, agent_random, experiment, analyzer,\n",
    "                agent_params=agent_random_params, analyzer_params=analyzer_params, \n",
    "                experiment_params=experiment_params,path=loop_dir,create_seed=N_seed)\n",
    "    loop.initialize(random_state=np.random.randint(0,100000))\n",
    "    loop.auto_loop(n_iterations=30, timeout=0)\n",
    "    return loop"
   ]
  },
  {
   "cell_type": "code",
   "execution_count": 18,
   "metadata": {},
   "outputs": [],
   "source": [
    "random_results = Parallel(n_jobs=-1)(delayed(random_campaign)(i) for i in range(8))"
   ]
  },
  {
   "cell_type": "markdown",
   "metadata": {},
   "source": [
    "Putting our results together."
   ]
  },
  {
   "cell_type": "code",
   "execution_count": 19,
   "metadata": {},
   "outputs": [
    {
     "data": {
      "text/plain": [
       "<matplotlib.legend.Legend at 0x1f7963128>"
      ]
     },
     "execution_count": 19,
     "metadata": {},
     "output_type": "execute_result"
    },
    {
     "data": {
      "image/png": "[encoded data removed]",
      "text/plain": [
       "<Figure size 432x288 with 1 Axes>"
      ]
     },
     "metadata": {
      "needs_background": "light"
     },
     "output_type": "display_data"
    }
   ],
   "source": [
    "merged1 = np.array([i.analyzer.score for i in entropy_results])\n",
    "merged2 = np.array([i.analyzer.score for i in random_results])\n",
    "mu1 = np.mean(merged1, axis=0)\n",
    "mu2 = np.mean(merged2, axis=0)\n",
    "std1 = np.std(merged1, axis=0)\n",
    "std2 = np.std(merged2, axis=0)\n",
    "\n",
    "plt.fill_between(range(len(mu1)), mu1+2*std1, mu1-2*std1, alpha=0.2)\n",
    "plt.plot(mu1, label='Entropy')\n",
    "plt.fill_between(range(len(mu2)), mu2+2*std2, mu2-2*std2, alpha=0.2)\n",
    "plt.plot(mu2, label='Random')\n",
    "plt.title('MNIST Logistic Regression Seed:5000 Query:500/iter.')\n",
    "plt.xlabel('iteration')\n",
    "plt.ylabel('score')\n",
    "plt.legend()"
   ]
  },
  {
   "cell_type": "markdown",
   "metadata": {},
   "source": [
    "We find that the accuracy of a Logistic Regression classifier for MNIST data can be improved more quickly with active-learning via entropy-based acquisition, compared to random acquisition of new labels."
   ]
  }
 ],
 "metadata": {
  "kernelspec": {
   "display_name": "Python 3",
   "language": "python",
   "name": "python3"
  },
  "language_info": {
   "codemirror_mode": {
    "name": "ipython",
    "version": 3
   },
   "file_extension": ".py",
   "mimetype": "text/x-python",
   "name": "python",
   "nbconvert_exporter": "python",
   "pygments_lexer": "ipython3",
   "version": "3.7.3"
  }
 },
 "nbformat": 4,
 "nbformat_minor": 2
}
